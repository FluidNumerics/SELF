{
 "cells": [
  {
   "cell_type": "code",
   "execution_count": null,
   "metadata": {},
   "outputs": [],
   "source": [
    "import numpy as np\n",
    "import matplotlib.pyplot as plt\n",
    "import pandas as pd"
   ]
  },
  {
   "cell_type": "code",
   "execution_count": null,
   "metadata": {},
   "outputs": [],
   "source": [
    "rows_interval = 4\n",
    "rows_min = rows_interval\n",
    "rows_max = 16\n",
    "rows = int(rows_max/rows_interval) - int(rows_min/rows_interval) + 1\n",
    "\n",
    "row_space = list(range(rows_min, rows_max + 1, rows_interval))\n",
    "scalar_space = [1000, 10000, 100000]\n",
    "\n",
    "columns = 3"
   ]
  },
  {
   "cell_type": "code",
   "execution_count": null,
   "metadata": {},
   "outputs": [],
   "source": [
    "operation = \"op_n\"\n",
    "precision = 32\n",
    "median_array_op_n_32 = np.zeros((rows, columns))\n",
    "\n",
    "# load data\n",
    "for i, n in enumerate(row_space):\n",
    "    for j, m in enumerate([n*1000, n*10000, n*100000]):\n",
    "        try:\n",
    "            directoryname = f\"../blas_results/gemm_{operation}_{precision}/{n}_{m}\"\n",
    "            filename = \"results.csv\"\n",
    "            df = pd.read_csv(f\"{directoryname}/{filename}\", usecols=[\"BeginNs\", \"EndNs\"])\n",
    "            subtracted_df = df[\"EndNs\"] - df[\"BeginNs\"]\n",
    "            subtracted_array = subtracted_df.to_numpy()\n",
    "            median_array_op_n_32[i, j] = np.median(subtracted_array) / 1000\n",
    "        except:\n",
    "            print(n,m)"
   ]
  },
  {
   "cell_type": "code",
   "execution_count": null,
   "metadata": {},
   "outputs": [],
   "source": [
    "operation = \"op_n\"\n",
    "precision = 64\n",
    "median_array_op_n_64 = np.zeros((rows, columns))\n",
    "\n",
    "# load data\n",
    "for i, n in enumerate(row_space):\n",
    "    for j, m in enumerate([n*1000, n*10000, n*100000]):\n",
    "        try:\n",
    "            directoryname = f\"../blas_results/gemm_{operation}_{precision}/{n}_{m}\"\n",
    "            filename = \"results.csv\"\n",
    "            df = pd.read_csv(f\"{directoryname}/{filename}\", usecols=[\"BeginNs\", \"EndNs\"])\n",
    "            subtracted_df = df[\"EndNs\"] - df[\"BeginNs\"]\n",
    "            subtracted_array = subtracted_df.to_numpy()\n",
    "            median_array_op_n_64[i, j] = np.median(subtracted_array) / 1000\n",
    "        except:\n",
    "            print(n,m)"
   ]
  },
  {
   "cell_type": "code",
   "execution_count": null,
   "metadata": {},
   "outputs": [],
   "source": [
    "operation = \"op_t\"\n",
    "precision = 32\n",
    "median_array_op_t_32 = np.zeros((rows, columns))\n",
    "\n",
    "# load data\n",
    "for i, n in enumerate(row_space):\n",
    "    for j, m in enumerate([n*1000, n*10000, n*100000]):\n",
    "        try:\n",
    "            directoryname = f\"../blas_results/gemm_{operation}_{precision}/{n}_{m}\"\n",
    "            filename = \"results.csv\"\n",
    "            df = pd.read_csv(f\"{directoryname}/{filename}\", usecols=[\"BeginNs\", \"EndNs\"])\n",
    "            subtracted_df = df[\"EndNs\"] - df[\"BeginNs\"]\n",
    "            subtracted_array = subtracted_df.to_numpy()\n",
    "            median_array_op_t_32[i, j] = np.median(subtracted_array) / 1000\n",
    "        except:\n",
    "            print(n,m)"
   ]
  },
  {
   "cell_type": "code",
   "execution_count": null,
   "metadata": {},
   "outputs": [],
   "source": [
    "operation = \"op_t\"\n",
    "precision = 64\n",
    "median_array_op_t_64 = np.zeros((rows, columns))\n",
    "\n",
    "# load data\n",
    "for i, n in enumerate(row_space):\n",
    "    for j, m in enumerate([n*1000, n*10000, n*100000]):\n",
    "        try:\n",
    "            directoryname = f\"../blas_results/gemm_{operation}_{precision}/{n}_{m}\"\n",
    "            filename = \"results.csv\"\n",
    "            df = pd.read_csv(f\"{directoryname}/{filename}\", usecols=[\"BeginNs\", \"EndNs\"])\n",
    "            subtracted_df = df[\"EndNs\"] - df[\"BeginNs\"]\n",
    "            subtracted_array = subtracted_df.to_numpy()\n",
    "            median_array_op_t_64[i, j] = np.median(subtracted_array) / 1000\n",
    "        except:\n",
    "            print(n,m)"
   ]
  },
  {
   "cell_type": "code",
   "execution_count": null,
   "metadata": {},
   "outputs": [],
   "source": [
    "import matplotlib.patches as mpatches\n",
    "\n",
    "titles = [\"op_n_32\", \"op_n_64\", \"op_t_32\", \"op_t_64\"]\n",
    "median_arrays = [median_array_op_n_32, median_array_op_n_64, median_array_op_t_32, median_array_op_t_64]\n",
    "\n",
    "fig, axes = plt.subplots(\n",
    "    median_arrays[0].shape[1],\n",
    "    median_arrays[0].shape[0], \n",
    "    subplot_kw=dict(box_aspect=1), \n",
    "    # layout=\"constrained\",\n",
    "    dpi=512,\n",
    ")\n",
    "fig.tight_layout()\n",
    "plt.subplots_adjust(wspace=1, hspace=1)\n",
    "\n",
    "x = np.arange(median_arrays[0].shape[0])\n",
    "width = 0.25\n",
    "\n",
    "bar_colors = ['tab:red', 'tab:orange', 'tab:blue', 'tab:purple']\n",
    "lims = [100,500,4000]\n",
    "\n",
    "for i, m in enumerate(row_space):\n",
    "    for j, m_scalar in enumerate(scalar_space):\n",
    "        ax = axes[len(scalar_space) - j - 1,i]\n",
    "        ax.set_xlim(0, lims[j])\n",
    "        ax.set_xticks(range(0,lims[j]+1, int(lims[j]/2)))\n",
    "        ax.grid(which=\"both\", axis=\"x\")\n",
    "        ms = [median_array[i][j] for median_array in median_arrays]\n",
    "        rects = ax.barh(titles, ms, label=titles, color=bar_colors)\n",
    "        ax.set_yticks(\n",
    "            ticks=x,\n",
    "            labels=ms,\n",
    "            minor=False,\n",
    "            fontsize=\"small\",\n",
    "        )\n",
    "        ax.set_title(fr\"$m = {m}$\" + '\\n' + fr\"$n = {m*m_scalar}$\")\n",
    "        \n",
    "# Legend\n",
    "patches = []\n",
    "for k, title in enumerate(titles):\n",
    "    patches.append(mpatches.Patch(color=bar_colors[k], label=title))\n",
    "\n",
    "\n",
    "fig.legend(handles=patches, loc='upper center', bbox_to_anchor=(0.5, -0.05), ncol=4)\n",
    "\n",
    "plt.show()"
   ]
  }
 ],
 "metadata": {
  "kernelspec": {
   "display_name": "base",
   "language": "python",
   "name": "python3"
  },
  "language_info": {
   "codemirror_mode": {
    "name": "ipython",
    "version": 3
   },
   "file_extension": ".py",
   "mimetype": "text/x-python",
   "name": "python",
   "nbconvert_exporter": "python",
   "pygments_lexer": "ipython3",
   "version": "3.11.7"
  }
 },
 "nbformat": 4,
 "nbformat_minor": 2
}
