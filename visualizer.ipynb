{
 "cells": [
  {
   "cell_type": "code",
   "execution_count": null,
   "metadata": {},
   "outputs": [],
   "source": [
    "import numpy as np\n",
    "import matplotlib.pyplot as plt\n",
    "from scipy.stats import linregress\n",
    "import pandas as pd"
   ]
  },
  {
   "cell_type": "code",
   "execution_count": null,
   "metadata": {},
   "outputs": [],
   "source": [
    "# assumption: rows and columns ranges always start at 1\n",
    "rows_interval = 8\n",
    "rows_min = 8\n",
    "rows_max = 128\n",
    "rows = int(rows_max/rows_interval) - int(rows_min/rows_interval) + 1\n",
    "\n",
    "columns_interval = 8\n",
    "columns_min = 8\n",
    "columns_max = 128\n",
    "columns = int(columns_max/columns_interval) - int(columns_min/columns_interval) + 1\n",
    "\n",
    "batch_count = 1000\n",
    "\n",
    "operation = \"op_n\"\n",
    "precision = 64\n",
    "\n",
    "median_array = np.zeros((rows, columns))\n",
    "master_array = np.zeros(100)"
   ]
  },
  {
   "cell_type": "code",
   "execution_count": null,
   "metadata": {},
   "outputs": [],
   "source": [
    "# for n in n_range:\n",
    "# load data\n",
    "for i, n in enumerate(range(rows_min, rows_max + 1, rows_interval)):\n",
    "    for j, m in enumerate(range(columns_min, columns_max + 1, columns_interval)):\n",
    "        try:\n",
    "            directoryname = f\"blas_results/{operation}_{precision}/{n}_{m}_{batch_count}\"\n",
    "            filename = \"results.csv\"\n",
    "            df = pd.read_csv(f\"{directoryname}/{filename}\", usecols=[\"BeginNs\", \"EndNs\"])\n",
    "            subtracted_df = df[\"EndNs\"] - df[\"BeginNs\"]\n",
    "            subtracted_array = subtracted_df.to_numpy()\n",
    "            median_array[i, j] = np.median(subtracted_array) / 1000\n",
    "        except:\n",
    "            print(n,m)\n",
    "# directoryname = \"blas_results/OP_N_64/10_10_100\"\n",
    "# filename = \"results.csv\"\n",
    "# df = pd.read_csv(f\"{directoryname}/{filename}\", usecols=[\"BeginNs\", \"EndNs\"])\n",
    "# subtracted_df = df[\"EndNs\"] - df[\"BeginNs\"]\n",
    "# subtracted_array = subtracted_df.to_numpy()\n",
    "# subtracted_array = subtracted_array.transpose()\n",
    "# master_array = np.vstack((master_array, subtracted_array))\n",
    "# master_array = np.delete(master_array, 0, axis=0)"
   ]
  },
  {
   "cell_type": "code",
   "execution_count": null,
   "metadata": {},
   "outputs": [],
   "source": [
    "print(master_array.shape)\n",
    "print(master_array)"
   ]
  },
  {
   "cell_type": "code",
   "execution_count": null,
   "metadata": {},
   "outputs": [],
   "source": [
    "fig, ax = plt.subplots(dpi=256)\n",
    "\n",
    "c = ax.imshow(median_array, origin=\"lower\")\n",
    "plt.title(\n",
    "    f\"median time to perform gemvstridedbatched\\n({operation}, {precision}-bit, batchCount={batch_count})\"\n",
    ")\n",
    "plt.xlabel(\"Number of columns\")\n",
    "plt.ylabel(\"Number of rows\")\n",
    "cbar = plt.colorbar(c)\n",
    "cbar.ax.set_ylabel(\"milliseconds\")\n",
    "plt.xticks([0, 32, 64, 96])\n",
    "plt.yticks([0, 32, 64, 96])\n",
    "\n",
    "plt.show()"
   ]
  },
  {
   "cell_type": "code",
   "execution_count": null,
   "metadata": {},
   "outputs": [],
   "source": [
    "from matplotlib import cm\n",
    "from matplotlib.ticker import LinearLocator\n",
    "\n",
    "fig, ax = plt.subplots(subplot_kw={\"projection\": \"3d\"}, dpi=256)\n",
    "\n",
    "X = np.arange(rows_min, rows_max + 1)\n",
    "Y = np.arange(columns_min, columns_max + 1)\n",
    "X, Y = np.meshgrid(X, Y)\n",
    "\n",
    "Z = median_array[X - 1, Y - 1]\n",
    "\n",
    "surf = ax.plot_surface(X, Y, Z, cmap=cm.coolwarm, linewidth=0, antialiased=False)\n",
    "ax.view_init(elev=20.0, azim=-60)\n",
    "plt.show()"
   ]
  }
 ],
 "metadata": {
  "kernelspec": {
   "display_name": "base",
   "language": "python",
   "name": "python3"
  },
  "language_info": {
   "codemirror_mode": {
    "name": "ipython",
    "version": 3
   },
   "file_extension": ".py",
   "mimetype": "text/x-python",
   "name": "python",
   "nbconvert_exporter": "python",
   "pygments_lexer": "ipython3",
   "version": "3.11.7"
  }
 },
 "nbformat": 4,
 "nbformat_minor": 2
}
